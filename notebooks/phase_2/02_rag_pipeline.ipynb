{
 "cells": [
  {
   "cell_type": "code",
   "execution_count": 1,
   "id": "e34f3d71",
   "metadata": {},
   "outputs": [],
   "source": [
    "import openai\n",
    "from qdrant_client import QdrantClient\n"
   ]
  },
  {
   "cell_type": "markdown",
   "id": "7885619f",
   "metadata": {},
   "source": [
    "# Embedding function"
   ]
  },
  {
   "cell_type": "code",
   "execution_count": 2,
   "id": "52a53d62",
   "metadata": {},
   "outputs": [],
   "source": [
    "\n",
    "\n",
    "def get_embeddings(text, model=\"text-embedding-3-small\"):\n",
    "    response = openai.embeddings.create(\n",
    "        input=text, \n",
    "        model=model)\n",
    "    return response.data[0].embedding    "
   ]
  },
  {
   "cell_type": "markdown",
   "id": "e555a29f",
   "metadata": {},
   "source": [
    "# Retrieval function"
   ]
  },
  {
   "cell_type": "code",
   "execution_count": 7,
   "id": "371fea99",
   "metadata": {},
   "outputs": [],
   "source": [
    "qdrant_client = QdrantClient(url=\"http://localhost:6333\")"
   ]
  },
  {
   "cell_type": "code",
   "execution_count": null,
   "id": "ebb2a77b",
   "metadata": {},
   "outputs": [],
   "source": []
  },
  {
   "cell_type": "code",
   "execution_count": 17,
   "id": "be43db84",
   "metadata": {},
   "outputs": [],
   "source": [
    "\n",
    "def retrieve_data(query,qdrant_client, k=5):\n",
    "    query_embeddings = get_embeddings(query)\n",
    "    results = qdrant_client.query_points(\n",
    "        collection_name=\"Amazon-items-collection-00\",\n",
    "        query=query_embeddings,\n",
    "        limit=k\n",
    "    )\n",
    " \n",
    "\n",
    "    retrieved_context_ids = []\n",
    "    retrieved_context = []\n",
    "    similarity_scores  = []\n",
    "\n",
    "    for result in results.points:\n",
    "        retrieved_context_ids.append(result.payload[\"parent_asin\"])\n",
    "        retrieved_context.append(result.payload[\"description\"])\n",
    "        similarity_scores.append(result.score)\n",
    "    \n",
    "    return {\n",
    "        \"retrieved_context_ids\": retrieved_context_ids,\n",
    "        \"retrieved_context\": retrieved_context,\n",
    "        \"similarity_scores\": similarity_scores,\n",
    "    }\n"
   ]
  },
  {
   "cell_type": "code",
   "execution_count": 19,
   "id": "46f3eedd",
   "metadata": {},
   "outputs": [
    {
     "data": {
      "text/plain": [
       "{'retrieved_context_ids': ['B0C52WNWY6',\n",
       "  'B09Y57K53R',\n",
       "  'B0B51PZC3L',\n",
       "  'B0BXRMTZCD',\n",
       "  'B0B3J1NNGL',\n",
       "  'B0C3GP9QFB',\n",
       "  'B0C999S8YM',\n",
       "  'B0B93MRTWF',\n",
       "  'B0BM961XHH',\n",
       "  'B09ZNKRFSC'],\n",
       " 'retrieved_context': [\"Wireless Earbud, Bluetooth Headphones in Ear Noise Cancelling Mic Mini Ear Buds, Bluetooth 5.1 Light Weight Deep Bass, IP7 Waterproof Wireless Headphones, 30H Playtime for Workout/Home/Office, WhiteCVC8.0 Noise Reduction and Hi-Fi Stereo Sound: Adopt advanced Bluetooth chip and high-sensitivity diaphragm and filter out outside noise allowing the other side to hear you more clearly. Besides, the built-in high-quality microphone can provide you with authentic sound and powerful bass. Hear your original voice whether you video with friends or make phone calls. Great Battery Life and Dual LED Power Display: The wireless earbuds can last 6-7 hours of high quality sound output on a single charge. Features with smart LED digital display can help check the power of charging case at any time, so you always know when it's time to recharge.Take it with you, you can relax enjoy music while traveling. IP7 Waterproof Earbuds and Ergonomic Design: Bluetooth earbuds boast IP7 rated technology. Means it can be used during sports or rainy days as it keeps liquids out and makes your headphones bluetooth last longerand. Besides, noise cancelling headphones ergonomic design .Even if you use the ear buds for a long time to run or work, you will not feel pain. Bluetooth 5.1 Technology and One-Step Pairing: Wireless headphones with microphone adopts the advanced Bluetooth 5.1 technology, providing stable connection and strong signal. Take the earphones wireless bluetooth out of the charging case, they'll be paired with each other automatically! Easy achieve seamless transition between single and dual mode. Touch Controls and Wide Compatibility: The touch buttons are easy to operate. Headphones wireless bluetooth allow you to conveniently play or pause or skip music, volume control, answer calls. Bluetooth headphones with microphone compatible with all bluetooth enabled devices such as cellphones, tablets, computers, TV, ect.\",\n",
       "  'XpacEbank Wireless Bluetooth Headphone, Painless Wearing Earbuds with Mic, Non Ear Plug Bone Conduction Ear Hook Headsets, Lightweight, Waterproof Earpiece for Sports/Workout/Music🎧【COMFORTABLE AND LIGHTWEIGHT】- This wireless bluetooth headphone abandons the traditional headphone design, dual Ear Sensor Non Ear-Plug hanging ear design, say goodbye to the swelling caused by earplugs. Non-in-ear design, earphones that fit the contours of your ears, so that you won’t feel pain after wearing them for a long time. Bone conduction design to make the sound more clear. 🎧【Upgrade Bluetooth 5.0】- Say goodbye to the Bluetooth 4.2 version, bluetooth 5.0 transmission of our bluetooth earbuds is more stable, lower latency, and the maximum distance can reach 15 meters(49 feet). Compatible with Android/IOS iPhone. Suitable for Music/workout/sports occasions 🎧【Great practicality, Value and accessibility】- This bluetooth headsets is built-in 140 mAh battery, 200 hours of standby time when fully charged, 10 hours of continuous playback, charging time only 1-2 hours. Waterproof and sweatproof really stand the \"baptism\" of sweat. Reduce signal interference, enhance call effect, audiophile music sound quality, to meet all your needs. And the price is very beautiful compared to airpods. Are you still not in your heart? 🎧【How to use/connect】- Press and hold the multi-function button for two seconds to power on and enter pairing, then turn on Bluetooth in the phone and find the Bluetooth device(F88) corresponding to the headset to pair. You don\\'t need to pair again after connecting. 🎧【100% customer satisfaction】- The Customer is God. If you are not satisfied with the bluetooth headset, please contact us. We will solve the problem quickly within 24 business hours. And you can enjoy one month\\'s free refund and replacement.',\n",
       "  \"VOESUD 2022 Upgrade Wireless Earbuds, Bluetooth 5.3 Headphones with Mic,Wireless Headphones Running with IP7 Waterproof Ear Hooks,Touch Control for Sport/WorkAdvanced Bluetooth 5.3 Technology: Q53 Wireless Earbuds use the advanced Bluetooth 5.3 chipset. Use wireless headphones you will getting 3x faster transmission speed and more stable connectivity without signal loss or music dropouts. Whether you are at home, in the office, or on the road, you don't have to worry about disconnection. Thetruly bluetooth headphones make you jump out of limits rather than pulled back by wires. Immersive Sound with Punchy Bass and Crystal Clear Calls: Q53 bluetooth earbuds adopts unique stereo design and 13.4mm big composite diaphragms to produce powerful sound with 40% more bass, bring more authentic music experience. Bluetooth earphones has powerful built-in CVC 8.0 dual microphones to effectively remove ambient noise and make calls clearer. you can use the noise cancelling headphones together or singly, auto connect to your device to talk any time when you walk, run! Ultra Lightweight Earhook Design and IP-X7 Waterproof: VOESUD running headphones to keep you motivated.Adjustable and secure-fit silicone earhooks and ergonomic design ensure your wireless earphones stay comfortably firm in place when doing sports and outside activity which don't worry about the running earbuds will fall off. The waterproof nano-coating design of the sport headphones can enjoy sports and outdoor activities without worrying about getting wet or sweaty LED Power Display and 120Hrs Playtime: Designed with digital LED power display, the Earbuds wireless earbuds allows you to grasp remaining power of charging case and charging status of earbuds in real-time. The bluetooth earbuds offer 8 hours of playtime on a single charge and up to 120 hours playback with the portable charging case. Only 1.5 hrs of charging time is required for both the in ear headphones to get a full charge. Never worry about battery life even on long trips. Touch Control and One-Step Pairing: Simply take the wireless earbuds out of the charging case and they will automatically connect to your phone in 1 seconds. The headphones wireless come with touch control technology which you can easily access different functions such as media control and calls, switch to next or previous track, play or pause. Earphones wireless bluetooth truly realizes a wireless experience, get rid of the unhappiness caused by physical buttons.\",\n",
       "  \"ASMRBAND Headband Headphones, Sleep Headphones Adjustable, Sleeping Headphones Comfortable Headband with Thin Speaker Microphone Handsfree Best Gift Ideas For Women Men【New Adjustable Design & HD Hi Fi Stereo Sound】 The new sleep headphones adopt improved adjustable strap design, can be adjusted to fit everyone’s head size. Ultra-thin discs make it ideal for side-sleepers and get rid of falling earplugs but without any compression of stereo sound. Wireless 5.2 version has a wireless range of 45 feet, which guarantees stable wireless connection. The headband headphones compatible with smart phones, computers, laptops, smart TVs and others. 【Headband Headphones with Ultra-Thin Speakers】 Adjustable headband headphones integrate the earpieces into a soft fabric headband for your extra comfort and the speakers are so thin that you can't feel them even if you press your head against the pillow, perfect sleep headphones for side sleepers.Choose sleeping headphones to keep you away from noisy environments and have a sweet dream. 【Built For Your Comfortability】 The Sleep headphones headband imitate human skin texture, ensuring lasting comfort. They are foldable and stretchable, which allows you to find the perfect fit without constraint and excellent durability. Wireless Headphones is the best Choice for Travel, Sport and Every day use by Unisex Kids, Teens and Adults. 【10+ Hours Music For A Full Night's Sleep】 Free of distracting beeps or bright lights.With the advanced Wireless tech and the premium lithium battery, the sleeping headphones can last at least 10 hrs after a 2 hrs full recharge. It's especially helpful for the light sleepers who use a full night's music or white noise to avoid being startled awake. When the battery runs out, the sleeping earbuds will turn off automatically instead of beeping a warning and waking you during the night. 【2 Year Warranty】 USA brand provide headphones for sleep wireless hassle-free service and offer friendly, easy-to-reach support (just contact us if you have any questions).Take sleep headband creates you a private space, not only make your sleep better but also enjoy your music time.If the sleeping headband phones you received happen to be malfunctioning,please let us know then we will provide you a free replacement or a refund.\",\n",
       "  'Omidyi True Wireless Sleep Earbuds, Noise Blocking Headphones in Ear for Sleeping, Lightweight and Comfortable, Bluetooth Earbuds Designed to Help You Fall Asleep Better (Black) [2022 Version]DO YOU ALSO HAVE TROUBLE WITH INSOMNIA AND TOSSING AND TURNING? Omidyi Sleep Earbuds are designed ergonomically and fit pretty snug ear, Forms the perfect acoustic seal and blocking effectively the outside noise up to 24dB. Sleep Technology Clinically Proven to Help You Fall Asleep Faster and sleep Better with Relaxing and Soothing. DO YOU ALSO HAVE TROUBLE WITH EARBUDS THAT ARE UNCOMFORTABLE TO WEAR? Omidyi L29 sleep earbuds paired with soft silicone eartips and earbud caps, and the true wireless earbuds design give you a comfortable wearing experience throughout the night. Even if you sleep on your side, you will not feel some pressure applied to the inside of your ear. These also come with 3 different sized silicone covers to help with different sized ears. DO YOU ALSO HAVE THE TROUBLE OF BULKY EARBUDS AND SHORT BATTERY LIFE? These in-ear sleep headphones are super tiny and lightweight, at only 0.095oz (2.7g) per earbud, Small up to 0.197 inch, it’s compact enough for carrying it around in a pocket. And the playtime lasts up to 4.5 hours for a single charged, the pocket-sized charging case provides an additional 27 hours of play, it will be great for travel as well. DO YOU NEED HEADPHONES WITHOUT DOWNLOADING A PROPRIETARY APP? Unlike other sleep earphones, Omidyi L29 sleep earbuds can be used as daily work and life. You can play the local music in all your bluetooth-ready devices, Play your favorite music on the way home from get off work or before bed to relieve the fatigue of the day. ARE YOU STILL WORRIED ABOUT AFTER-SALES SERVICES? Omidyi, industry-leading 1 year worry free warranty, 24 hours email online service, friendly & outstanding lifetime technical support. If you have any questions, please feel free to tell us, we will try our best to solve it for you.',\n",
       "  \"2 Pack Gkv for Airpods 3 Case for Airpod 3 (2021) Cover Unique Funny Fun Kawaii Cute 3D Cartoon Design Air Pods 3rd Generation Silicone Cases for Girls Teen Boys KidsInterestful Novel and Cute Design Style: This AirPods 3 (2021) protective shell is designed to be funny and fashionable, very unique and interesting. Excellent quality, comfortable feel, absolutely attracting everyone's gaze. Comprehensive Protection: This fun silicone shell provides best protection for your AirPods 3 (2021). The high quality silicone material makes it soft and flexible, and the case where the AirPods 3 (2021) accidentally falls can be buffered to reduce harm. And it is not easy to deform and break, and the hard object is prevented from scratching the surface of AirPods 3 (2021). Accurate Hole Position Design: The bottom hole is accurate, and it can be charged for AirPods 3 (2021) without removing the outer casing. Opening and closing is smooth, it is easy to remove the headphones in the AirPods 3 (2021). Best Gift: Cute and interesting fashion unique AirPods 3 (2021) protective shells are very suitable for girls, boys, youth, women, students, daughters, sons, niece, etc., give them in Children's Day, Christmas, Thanksgiving or birthday, will Get a surprise. Attached to The Hill Buckle: Including: 2*Suitable for protector of AirPods 3 (2021); 2*Metal buckle/keychain. Carry AirPods 3 (2021) with you, you can hang your backpack, belt, or key, enjoy music anytime, anywhere.\",\n",
       "  'BOGASING Bluetooth Speakers, M4 Portable Wireless Speaker with 40W Deep Bass and Loud Stereo Sound, IPX7 Waterproof, Bluetooth 5.0, TWS, DSP Technology, Built-in Mic, for Outdoor Home Party (Black)【40W HD SOUND WITH PUNCHY BASS】40W powerful sound is delivered by two 20W full range-drivers and a passive radiator, while real-time intensified bass can be heard with Bass up technology. The exceptional audio components ensure accurate and clear sound reproduction without distortion at any volume. 【IPX7 WATERPROOF】The M4 Bluetooth Speakers offers strong waterproof and dustproof protection. The durable silicone body and port cover will ensure better internal protection. You can take your speakers to the pool, adventure, beach, bathroom and anywhere. Enjoy music without fear. 【THREE SOUND EFFECTS】Three sound effect modes of exclusive custom by BOGASING, which help you feel 3D Stereo, clear and undistorted vocals or enhanced bass to meet your listening preferences. 【EXCELLENT COMPATIBILITY】Advanced Bluetooth 5.0 makes it easy to connect any devices range up to 100 ft, which has fast transmission speed and stable signal without delay. This wireless speaker supports non-Bluetooth devices via TF card slot and the included 3.5mm audio cable, and also support clear hand-free calls with built-in HD microphone. 【DURABLE PORTABLE SPEAKER】 M4 is a powerful outdoor speaker. With the top-of-the-line rechargeable li-ion battery, long enough for any outdoor activities. Play your music anytime with the great sound of BOGASING, in any occasions. Wireless portable bluetooth speakers should be a must have in your life. 【GUARANTEE】Worry-Free 12-month Warranty, we are willing to have the best quality, outstanding service as your first choice. If you have any questions, just EMAIL us and we will try to resolve your issue.',\n",
       "  'Tronsmart Bang Mini Portable Bluetooth Speaker with 50W Wireless Stereo Sound, IPX6 Waterproof Loud Speaker for Home/Outdoor/Party, Bluetooth 5.3, Beat-Driven Light Show, Support NFC, Micro SD, AUX【Powerful Bass & Crystal Clear Treble】Besides professional speaker design, Tronsmart Bang Mini features 2 independent speaker cavities, in which the front cavity (2 mid-tweeters and 1 passive radiator) offers crystal clear treble in superior clarity while the rear cavity (2 woofers) presents punchy bass. The 50W high-definition speaker provides higher volume than others, making it suitable for indoor and outdoor gatherings in a variety of scenarios. 【Colorful LED Lights Portable Speaker】2 customizable LED Modes: circling & breathing (The breathing light is only available in standby mode) allow you to tailor your atmosphere and dive into music. Fill your event spaces with party fun such as a house, yard, garden, and swimming pool. 【Large Capacity Battery + Power Bank Function】Built-in 8000mAh (7.4V 4000mAh) large-capacity battery, this portable speaker guarantees 15 hours of playtime on a single charge. It could be juiced up within 4 hours. Functioning as a power bank, it could give your device a boost. A good partner for hiking and traveling. 【IPX6 Waterproof Portable Bluetooth Speakers】Made of rounded edges, the Tronsmart Bang Mini Bluetooth Portable speaker offers the premium touch between an elegant and modern speaker. Advanced IPX6 waterproof prevents spills, rain & splash. The Bluetooth speaker weighs 2.37kg/5.22 lbs, and it can be better transported with a built-in handle. 【Bluetooth 5.3 & Wide Compatibility】Bluetooth 5.3 technology ensures faster connection with Bluetooth-enabled devices within 49ft. With wider compatibility, you could play from an aux-in cable, TF/Micro SD card, or U disk, as well as NFC, enabling Bang Mini to connect your device besides Bluetooth.',\n",
       "  'iPhone Charger Block,Cube Apple iPhone Charger[Apple MFi Certified]2Pack Fast Charging Data Sync Lightning Cable Cord USB Wall Charger Travel Adapter for iPhone 14/13/12/11/10/XS/XR/8 Plus/8/7/AirPods【Apple Approved MFi Certified Lightning Cable】The 2 Pack iPhone Chargers are expressly authorized by Apple MFI and UL certificated,and the lightning cable built-in smart identification chip which automatically protect your device from damage.The Official guarantees for durability and reduce the problems of overheating,poor contact when the iPhone/iPad/iPod/Airpods is charging. 【2-Pack iPhone Charger Cable & Cube】This officially certified iPhone lightning cable is made of smart chipset control technology, the cables passed 10000+ bending tests,ensure 100% charging and synchronize Photos, Music, Videos and Files at a data transfer speed of up to 480Mbps(30MB/S).The cubes is equipped with a built-in temperature control system, which ensure your device will not overheat during charging, providing you a comfortable environment for life. 【Smaller Size & Lighter Weight】This iPhone charger is designed for small size.The iPhone charger block is made of light and abrasion resistant PVC shell and the iPhone charger cord is wrapped with flexible and light material which is convenient to take out at anytime, including travel, business trip, shopping, etc. 【Wide Compatibility for Apple devices】This 2 Set iPhone chargers with cables & blocks guaranteed universal compatibility that support Apple devices including iPhone 14/14 Pro/14 Pro Max/14 Plus/13/13 Pro/13 Pro Max/13 Mini/12/12 Pro/12 Pro Max/12 Mini/11/11 Pro/11 Pro Max/SE 2020/XS Max/XS/X/XR/8 Plus/ 8 /7/7 Plus/6s/6s Plus/6/6 Plus/SE/5s/5/5c,iPad,AirPods. 【Efficient After Sales Reply】If you have any question when you receive your package containing 2pack iPhone 3FT USB A to lightning cable and 5W iPhone charger block,please do not hesitate to click the after-sales button.We are very happy to have communication with you and promise to reply to your questions within 24 hours.',\n",
       "  'JBL Flip 6 - Waterproof Portable Bluetooth Speaker, Powerful Sound and deep bass, IPX7 Waterproof, 12 Hours of Playtime with Megen Hardshell CaseWATERPROOF BLUETOOTH SPEAKER: The Flip 6 Bluetooth wireless speaker has an innovative IPX7 waterproof design that allows you to fearlessly emerge the entire speaker into the water a few feet deep. Are you already excited to try it out? 12 Hours of Playtime Don’t sweat the small stuff like charging your battery. JBL Flip 6 gives you up to 12 hours of playtime on a single charge. Hike up the fun with PartyBoost PartyBoost allows you to pair two JBL PartyBoost-compatible speakers together for stereo sound or link multiple JBL PartyBoost-compatible speakers to truly pump up your party To the pool. To the park. JBL Flip 6 is IP67 waterproof and dustproof, so you can bring your speaker anywhere. CARRY THE SPEAKER AROUND WITH EASE: The shockproof carrying case of this JBL portable speaker has a mesh pocket where you can store the USB charging cable. The Megen case allows you to carry the Flip 6 Wireless Bluetooth Portable Speaker in your backpack or luggage with complete safety. Wirelessly connect your favorite devices with Bluetooth 5.1'],\n",
       " 'similarity_scores': [0.492202,\n",
       "  0.46032515,\n",
       "  0.44214696,\n",
       "  0.4248644,\n",
       "  0.41982865,\n",
       "  0.3500598,\n",
       "  0.34848005,\n",
       "  0.32134175,\n",
       "  0.31197304,\n",
       "  0.30625176]}"
      ]
     },
     "execution_count": 19,
     "metadata": {},
     "output_type": "execute_result"
    }
   ],
   "source": [
    "retrieved_context = retrieve_data(\"What kind of earphones can I get?\", qdrant_client, k=10)\n",
    "\n",
    "retrieved_context"
   ]
  },
  {
   "cell_type": "markdown",
   "id": "2551d1b2",
   "metadata": {},
   "source": [
    "# Format retrieved context function\n"
   ]
  },
  {
   "cell_type": "code",
   "execution_count": 20,
   "id": "f1db3ef6",
   "metadata": {},
   "outputs": [],
   "source": [
    "def process_context(context):\n",
    "    formatted_context = \"\"\n",
    "    for id, chunk in zip(context[\"retrieved_context_ids\"], context[\"retrieved_context\"]):\n",
    "        formatted_context += f\"- {id}: {chunk} \\n\"\n",
    "    \n",
    "    return formatted_context\n"
   ]
  },
  {
   "cell_type": "code",
   "execution_count": 21,
   "id": "0e0f9ca9",
   "metadata": {},
   "outputs": [],
   "source": [
    "preprocessed_context = process_context(retrieved_context)\n"
   ]
  },
  {
   "cell_type": "code",
   "execution_count": 22,
   "id": "6990e0ee",
   "metadata": {},
   "outputs": [
    {
     "name": "stdout",
     "output_type": "stream",
     "text": [
      "- B0C52WNWY6: Wireless Earbud, Bluetooth Headphones in Ear Noise Cancelling Mic Mini Ear Buds, Bluetooth 5.1 Light Weight Deep Bass, IP7 Waterproof Wireless Headphones, 30H Playtime for Workout/Home/Office, WhiteCVC8.0 Noise Reduction and Hi-Fi Stereo Sound: Adopt advanced Bluetooth chip and high-sensitivity diaphragm and filter out outside noise allowing the other side to hear you more clearly. Besides, the built-in high-quality microphone can provide you with authentic sound and powerful bass. Hear your original voice whether you video with friends or make phone calls. Great Battery Life and Dual LED Power Display: The wireless earbuds can last 6-7 hours of high quality sound output on a single charge. Features with smart LED digital display can help check the power of charging case at any time, so you always know when it's time to recharge.Take it with you, you can relax enjoy music while traveling. IP7 Waterproof Earbuds and Ergonomic Design: Bluetooth earbuds boast IP7 rated technology. Means it can be used during sports or rainy days as it keeps liquids out and makes your headphones bluetooth last longerand. Besides, noise cancelling headphones ergonomic design .Even if you use the ear buds for a long time to run or work, you will not feel pain. Bluetooth 5.1 Technology and One-Step Pairing: Wireless headphones with microphone adopts the advanced Bluetooth 5.1 technology, providing stable connection and strong signal. Take the earphones wireless bluetooth out of the charging case, they'll be paired with each other automatically! Easy achieve seamless transition between single and dual mode. Touch Controls and Wide Compatibility: The touch buttons are easy to operate. Headphones wireless bluetooth allow you to conveniently play or pause or skip music, volume control, answer calls. Bluetooth headphones with microphone compatible with all bluetooth enabled devices such as cellphones, tablets, computers, TV, ect. \n",
      "- B09Y57K53R: XpacEbank Wireless Bluetooth Headphone, Painless Wearing Earbuds with Mic, Non Ear Plug Bone Conduction Ear Hook Headsets, Lightweight, Waterproof Earpiece for Sports/Workout/Music🎧【COMFORTABLE AND LIGHTWEIGHT】- This wireless bluetooth headphone abandons the traditional headphone design, dual Ear Sensor Non Ear-Plug hanging ear design, say goodbye to the swelling caused by earplugs. Non-in-ear design, earphones that fit the contours of your ears, so that you won’t feel pain after wearing them for a long time. Bone conduction design to make the sound more clear. 🎧【Upgrade Bluetooth 5.0】- Say goodbye to the Bluetooth 4.2 version, bluetooth 5.0 transmission of our bluetooth earbuds is more stable, lower latency, and the maximum distance can reach 15 meters(49 feet). Compatible with Android/IOS iPhone. Suitable for Music/workout/sports occasions 🎧【Great practicality, Value and accessibility】- This bluetooth headsets is built-in 140 mAh battery, 200 hours of standby time when fully charged, 10 hours of continuous playback, charging time only 1-2 hours. Waterproof and sweatproof really stand the \"baptism\" of sweat. Reduce signal interference, enhance call effect, audiophile music sound quality, to meet all your needs. And the price is very beautiful compared to airpods. Are you still not in your heart? 🎧【How to use/connect】- Press and hold the multi-function button for two seconds to power on and enter pairing, then turn on Bluetooth in the phone and find the Bluetooth device(F88) corresponding to the headset to pair. You don't need to pair again after connecting. 🎧【100% customer satisfaction】- The Customer is God. If you are not satisfied with the bluetooth headset, please contact us. We will solve the problem quickly within 24 business hours. And you can enjoy one month's free refund and replacement. \n",
      "- B0B51PZC3L: VOESUD 2022 Upgrade Wireless Earbuds, Bluetooth 5.3 Headphones with Mic,Wireless Headphones Running with IP7 Waterproof Ear Hooks,Touch Control for Sport/WorkAdvanced Bluetooth 5.3 Technology: Q53 Wireless Earbuds use the advanced Bluetooth 5.3 chipset. Use wireless headphones you will getting 3x faster transmission speed and more stable connectivity without signal loss or music dropouts. Whether you are at home, in the office, or on the road, you don't have to worry about disconnection. Thetruly bluetooth headphones make you jump out of limits rather than pulled back by wires. Immersive Sound with Punchy Bass and Crystal Clear Calls: Q53 bluetooth earbuds adopts unique stereo design and 13.4mm big composite diaphragms to produce powerful sound with 40% more bass, bring more authentic music experience. Bluetooth earphones has powerful built-in CVC 8.0 dual microphones to effectively remove ambient noise and make calls clearer. you can use the noise cancelling headphones together or singly, auto connect to your device to talk any time when you walk, run! Ultra Lightweight Earhook Design and IP-X7 Waterproof: VOESUD running headphones to keep you motivated.Adjustable and secure-fit silicone earhooks and ergonomic design ensure your wireless earphones stay comfortably firm in place when doing sports and outside activity which don't worry about the running earbuds will fall off. The waterproof nano-coating design of the sport headphones can enjoy sports and outdoor activities without worrying about getting wet or sweaty LED Power Display and 120Hrs Playtime: Designed with digital LED power display, the Earbuds wireless earbuds allows you to grasp remaining power of charging case and charging status of earbuds in real-time. The bluetooth earbuds offer 8 hours of playtime on a single charge and up to 120 hours playback with the portable charging case. Only 1.5 hrs of charging time is required for both the in ear headphones to get a full charge. Never worry about battery life even on long trips. Touch Control and One-Step Pairing: Simply take the wireless earbuds out of the charging case and they will automatically connect to your phone in 1 seconds. The headphones wireless come with touch control technology which you can easily access different functions such as media control and calls, switch to next or previous track, play or pause. Earphones wireless bluetooth truly realizes a wireless experience, get rid of the unhappiness caused by physical buttons. \n",
      "- B0BXRMTZCD: ASMRBAND Headband Headphones, Sleep Headphones Adjustable, Sleeping Headphones Comfortable Headband with Thin Speaker Microphone Handsfree Best Gift Ideas For Women Men【New Adjustable Design & HD Hi Fi Stereo Sound】 The new sleep headphones adopt improved adjustable strap design, can be adjusted to fit everyone’s head size. Ultra-thin discs make it ideal for side-sleepers and get rid of falling earplugs but without any compression of stereo sound. Wireless 5.2 version has a wireless range of 45 feet, which guarantees stable wireless connection. The headband headphones compatible with smart phones, computers, laptops, smart TVs and others. 【Headband Headphones with Ultra-Thin Speakers】 Adjustable headband headphones integrate the earpieces into a soft fabric headband for your extra comfort and the speakers are so thin that you can't feel them even if you press your head against the pillow, perfect sleep headphones for side sleepers.Choose sleeping headphones to keep you away from noisy environments and have a sweet dream. 【Built For Your Comfortability】 The Sleep headphones headband imitate human skin texture, ensuring lasting comfort. They are foldable and stretchable, which allows you to find the perfect fit without constraint and excellent durability. Wireless Headphones is the best Choice for Travel, Sport and Every day use by Unisex Kids, Teens and Adults. 【10+ Hours Music For A Full Night's Sleep】 Free of distracting beeps or bright lights.With the advanced Wireless tech and the premium lithium battery, the sleeping headphones can last at least 10 hrs after a 2 hrs full recharge. It's especially helpful for the light sleepers who use a full night's music or white noise to avoid being startled awake. When the battery runs out, the sleeping earbuds will turn off automatically instead of beeping a warning and waking you during the night. 【2 Year Warranty】 USA brand provide headphones for sleep wireless hassle-free service and offer friendly, easy-to-reach support (just contact us if you have any questions).Take sleep headband creates you a private space, not only make your sleep better but also enjoy your music time.If the sleeping headband phones you received happen to be malfunctioning,please let us know then we will provide you a free replacement or a refund. \n",
      "- B0B3J1NNGL: Omidyi True Wireless Sleep Earbuds, Noise Blocking Headphones in Ear for Sleeping, Lightweight and Comfortable, Bluetooth Earbuds Designed to Help You Fall Asleep Better (Black) [2022 Version]DO YOU ALSO HAVE TROUBLE WITH INSOMNIA AND TOSSING AND TURNING? Omidyi Sleep Earbuds are designed ergonomically and fit pretty snug ear, Forms the perfect acoustic seal and blocking effectively the outside noise up to 24dB. Sleep Technology Clinically Proven to Help You Fall Asleep Faster and sleep Better with Relaxing and Soothing. DO YOU ALSO HAVE TROUBLE WITH EARBUDS THAT ARE UNCOMFORTABLE TO WEAR? Omidyi L29 sleep earbuds paired with soft silicone eartips and earbud caps, and the true wireless earbuds design give you a comfortable wearing experience throughout the night. Even if you sleep on your side, you will not feel some pressure applied to the inside of your ear. These also come with 3 different sized silicone covers to help with different sized ears. DO YOU ALSO HAVE THE TROUBLE OF BULKY EARBUDS AND SHORT BATTERY LIFE? These in-ear sleep headphones are super tiny and lightweight, at only 0.095oz (2.7g) per earbud, Small up to 0.197 inch, it’s compact enough for carrying it around in a pocket. And the playtime lasts up to 4.5 hours for a single charged, the pocket-sized charging case provides an additional 27 hours of play, it will be great for travel as well. DO YOU NEED HEADPHONES WITHOUT DOWNLOADING A PROPRIETARY APP? Unlike other sleep earphones, Omidyi L29 sleep earbuds can be used as daily work and life. You can play the local music in all your bluetooth-ready devices, Play your favorite music on the way home from get off work or before bed to relieve the fatigue of the day. ARE YOU STILL WORRIED ABOUT AFTER-SALES SERVICES? Omidyi, industry-leading 1 year worry free warranty, 24 hours email online service, friendly & outstanding lifetime technical support. If you have any questions, please feel free to tell us, we will try our best to solve it for you. \n",
      "- B0C3GP9QFB: 2 Pack Gkv for Airpods 3 Case for Airpod 3 (2021) Cover Unique Funny Fun Kawaii Cute 3D Cartoon Design Air Pods 3rd Generation Silicone Cases for Girls Teen Boys KidsInterestful Novel and Cute Design Style: This AirPods 3 (2021) protective shell is designed to be funny and fashionable, very unique and interesting. Excellent quality, comfortable feel, absolutely attracting everyone's gaze. Comprehensive Protection: This fun silicone shell provides best protection for your AirPods 3 (2021). The high quality silicone material makes it soft and flexible, and the case where the AirPods 3 (2021) accidentally falls can be buffered to reduce harm. And it is not easy to deform and break, and the hard object is prevented from scratching the surface of AirPods 3 (2021). Accurate Hole Position Design: The bottom hole is accurate, and it can be charged for AirPods 3 (2021) without removing the outer casing. Opening and closing is smooth, it is easy to remove the headphones in the AirPods 3 (2021). Best Gift: Cute and interesting fashion unique AirPods 3 (2021) protective shells are very suitable for girls, boys, youth, women, students, daughters, sons, niece, etc., give them in Children's Day, Christmas, Thanksgiving or birthday, will Get a surprise. Attached to The Hill Buckle: Including: 2*Suitable for protector of AirPods 3 (2021); 2*Metal buckle/keychain. Carry AirPods 3 (2021) with you, you can hang your backpack, belt, or key, enjoy music anytime, anywhere. \n",
      "- B0C999S8YM: BOGASING Bluetooth Speakers, M4 Portable Wireless Speaker with 40W Deep Bass and Loud Stereo Sound, IPX7 Waterproof, Bluetooth 5.0, TWS, DSP Technology, Built-in Mic, for Outdoor Home Party (Black)【40W HD SOUND WITH PUNCHY BASS】40W powerful sound is delivered by two 20W full range-drivers and a passive radiator, while real-time intensified bass can be heard with Bass up technology. The exceptional audio components ensure accurate and clear sound reproduction without distortion at any volume. 【IPX7 WATERPROOF】The M4 Bluetooth Speakers offers strong waterproof and dustproof protection. The durable silicone body and port cover will ensure better internal protection. You can take your speakers to the pool, adventure, beach, bathroom and anywhere. Enjoy music without fear. 【THREE SOUND EFFECTS】Three sound effect modes of exclusive custom by BOGASING, which help you feel 3D Stereo, clear and undistorted vocals or enhanced bass to meet your listening preferences. 【EXCELLENT COMPATIBILITY】Advanced Bluetooth 5.0 makes it easy to connect any devices range up to 100 ft, which has fast transmission speed and stable signal without delay. This wireless speaker supports non-Bluetooth devices via TF card slot and the included 3.5mm audio cable, and also support clear hand-free calls with built-in HD microphone. 【DURABLE PORTABLE SPEAKER】 M4 is a powerful outdoor speaker. With the top-of-the-line rechargeable li-ion battery, long enough for any outdoor activities. Play your music anytime with the great sound of BOGASING, in any occasions. Wireless portable bluetooth speakers should be a must have in your life. 【GUARANTEE】Worry-Free 12-month Warranty, we are willing to have the best quality, outstanding service as your first choice. If you have any questions, just EMAIL us and we will try to resolve your issue. \n",
      "- B0B93MRTWF: Tronsmart Bang Mini Portable Bluetooth Speaker with 50W Wireless Stereo Sound, IPX6 Waterproof Loud Speaker for Home/Outdoor/Party, Bluetooth 5.3, Beat-Driven Light Show, Support NFC, Micro SD, AUX【Powerful Bass & Crystal Clear Treble】Besides professional speaker design, Tronsmart Bang Mini features 2 independent speaker cavities, in which the front cavity (2 mid-tweeters and 1 passive radiator) offers crystal clear treble in superior clarity while the rear cavity (2 woofers) presents punchy bass. The 50W high-definition speaker provides higher volume than others, making it suitable for indoor and outdoor gatherings in a variety of scenarios. 【Colorful LED Lights Portable Speaker】2 customizable LED Modes: circling & breathing (The breathing light is only available in standby mode) allow you to tailor your atmosphere and dive into music. Fill your event spaces with party fun such as a house, yard, garden, and swimming pool. 【Large Capacity Battery + Power Bank Function】Built-in 8000mAh (7.4V 4000mAh) large-capacity battery, this portable speaker guarantees 15 hours of playtime on a single charge. It could be juiced up within 4 hours. Functioning as a power bank, it could give your device a boost. A good partner for hiking and traveling. 【IPX6 Waterproof Portable Bluetooth Speakers】Made of rounded edges, the Tronsmart Bang Mini Bluetooth Portable speaker offers the premium touch between an elegant and modern speaker. Advanced IPX6 waterproof prevents spills, rain & splash. The Bluetooth speaker weighs 2.37kg/5.22 lbs, and it can be better transported with a built-in handle. 【Bluetooth 5.3 & Wide Compatibility】Bluetooth 5.3 technology ensures faster connection with Bluetooth-enabled devices within 49ft. With wider compatibility, you could play from an aux-in cable, TF/Micro SD card, or U disk, as well as NFC, enabling Bang Mini to connect your device besides Bluetooth. \n",
      "- B0BM961XHH: iPhone Charger Block,Cube Apple iPhone Charger[Apple MFi Certified]2Pack Fast Charging Data Sync Lightning Cable Cord USB Wall Charger Travel Adapter for iPhone 14/13/12/11/10/XS/XR/8 Plus/8/7/AirPods【Apple Approved MFi Certified Lightning Cable】The 2 Pack iPhone Chargers are expressly authorized by Apple MFI and UL certificated,and the lightning cable built-in smart identification chip which automatically protect your device from damage.The Official guarantees for durability and reduce the problems of overheating,poor contact when the iPhone/iPad/iPod/Airpods is charging. 【2-Pack iPhone Charger Cable & Cube】This officially certified iPhone lightning cable is made of smart chipset control technology, the cables passed 10000+ bending tests,ensure 100% charging and synchronize Photos, Music, Videos and Files at a data transfer speed of up to 480Mbps(30MB/S).The cubes is equipped with a built-in temperature control system, which ensure your device will not overheat during charging, providing you a comfortable environment for life. 【Smaller Size & Lighter Weight】This iPhone charger is designed for small size.The iPhone charger block is made of light and abrasion resistant PVC shell and the iPhone charger cord is wrapped with flexible and light material which is convenient to take out at anytime, including travel, business trip, shopping, etc. 【Wide Compatibility for Apple devices】This 2 Set iPhone chargers with cables & blocks guaranteed universal compatibility that support Apple devices including iPhone 14/14 Pro/14 Pro Max/14 Plus/13/13 Pro/13 Pro Max/13 Mini/12/12 Pro/12 Pro Max/12 Mini/11/11 Pro/11 Pro Max/SE 2020/XS Max/XS/X/XR/8 Plus/ 8 /7/7 Plus/6s/6s Plus/6/6 Plus/SE/5s/5/5c,iPad,AirPods. 【Efficient After Sales Reply】If you have any question when you receive your package containing 2pack iPhone 3FT USB A to lightning cable and 5W iPhone charger block,please do not hesitate to click the after-sales button.We are very happy to have communication with you and promise to reply to your questions within 24 hours. \n",
      "- B09ZNKRFSC: JBL Flip 6 - Waterproof Portable Bluetooth Speaker, Powerful Sound and deep bass, IPX7 Waterproof, 12 Hours of Playtime with Megen Hardshell CaseWATERPROOF BLUETOOTH SPEAKER: The Flip 6 Bluetooth wireless speaker has an innovative IPX7 waterproof design that allows you to fearlessly emerge the entire speaker into the water a few feet deep. Are you already excited to try it out? 12 Hours of Playtime Don’t sweat the small stuff like charging your battery. JBL Flip 6 gives you up to 12 hours of playtime on a single charge. Hike up the fun with PartyBoost PartyBoost allows you to pair two JBL PartyBoost-compatible speakers together for stereo sound or link multiple JBL PartyBoost-compatible speakers to truly pump up your party To the pool. To the park. JBL Flip 6 is IP67 waterproof and dustproof, so you can bring your speaker anywhere. CARRY THE SPEAKER AROUND WITH EASE: The shockproof carrying case of this JBL portable speaker has a mesh pocket where you can store the USB charging cable. The Megen case allows you to carry the Flip 6 Wireless Bluetooth Portable Speaker in your backpack or luggage with complete safety. Wirelessly connect your favorite devices with Bluetooth 5.1 \n",
      "\n"
     ]
    }
   ],
   "source": [
    "print(process_context(retrieved_context))\n"
   ]
  },
  {
   "cell_type": "markdown",
   "id": "765f6edb",
   "metadata": {},
   "source": [
    "# Create Prompt function\n"
   ]
  },
  {
   "cell_type": "code",
   "execution_count": 23,
   "id": "a5b5a616",
   "metadata": {},
   "outputs": [],
   "source": [
    "def build_prompt(preprocessed_context, question):\n",
    "\n",
    "    prompt = f\"\"\"\n",
    "You are a shopping assistant that can answer questions about the products in stock.\n",
    "\n",
    "You will be given a question and a list of context.\n",
    "\n",
    "Instructtions:\n",
    "- You need to answer the question based on the provided context only.\n",
    "- Never use word context and refer to it as the available products.\n",
    "\n",
    "Context:\n",
    "{preprocessed_context}\n",
    "\n",
    "Question:\n",
    "{question}\n",
    "\"\"\"\n",
    "\n",
    "    return prompt"
   ]
  },
  {
   "cell_type": "code",
   "execution_count": 24,
   "id": "85bcfbe1",
   "metadata": {},
   "outputs": [],
   "source": [
    "prompt = build_prompt(preprocessed_context, \"What kind of earphones can I get?\")\n"
   ]
  },
  {
   "cell_type": "code",
   "execution_count": 25,
   "id": "6250b606",
   "metadata": {},
   "outputs": [
    {
     "name": "stdout",
     "output_type": "stream",
     "text": [
      "\n",
      "You are a shopping assistant that can answer questions about the products in stock.\n",
      "\n",
      "You will be given a question and a list of context.\n",
      "\n",
      "Instructtions:\n",
      "- You need to answer the question based on the provided context only.\n",
      "- Never use word context and refer to it as the available products.\n",
      "\n",
      "Context:\n",
      "- B0C52WNWY6: Wireless Earbud, Bluetooth Headphones in Ear Noise Cancelling Mic Mini Ear Buds, Bluetooth 5.1 Light Weight Deep Bass, IP7 Waterproof Wireless Headphones, 30H Playtime for Workout/Home/Office, WhiteCVC8.0 Noise Reduction and Hi-Fi Stereo Sound: Adopt advanced Bluetooth chip and high-sensitivity diaphragm and filter out outside noise allowing the other side to hear you more clearly. Besides, the built-in high-quality microphone can provide you with authentic sound and powerful bass. Hear your original voice whether you video with friends or make phone calls. Great Battery Life and Dual LED Power Display: The wireless earbuds can last 6-7 hours of high quality sound output on a single charge. Features with smart LED digital display can help check the power of charging case at any time, so you always know when it's time to recharge.Take it with you, you can relax enjoy music while traveling. IP7 Waterproof Earbuds and Ergonomic Design: Bluetooth earbuds boast IP7 rated technology. Means it can be used during sports or rainy days as it keeps liquids out and makes your headphones bluetooth last longerand. Besides, noise cancelling headphones ergonomic design .Even if you use the ear buds for a long time to run or work, you will not feel pain. Bluetooth 5.1 Technology and One-Step Pairing: Wireless headphones with microphone adopts the advanced Bluetooth 5.1 technology, providing stable connection and strong signal. Take the earphones wireless bluetooth out of the charging case, they'll be paired with each other automatically! Easy achieve seamless transition between single and dual mode. Touch Controls and Wide Compatibility: The touch buttons are easy to operate. Headphones wireless bluetooth allow you to conveniently play or pause or skip music, volume control, answer calls. Bluetooth headphones with microphone compatible with all bluetooth enabled devices such as cellphones, tablets, computers, TV, ect. \n",
      "- B09Y57K53R: XpacEbank Wireless Bluetooth Headphone, Painless Wearing Earbuds with Mic, Non Ear Plug Bone Conduction Ear Hook Headsets, Lightweight, Waterproof Earpiece for Sports/Workout/Music🎧【COMFORTABLE AND LIGHTWEIGHT】- This wireless bluetooth headphone abandons the traditional headphone design, dual Ear Sensor Non Ear-Plug hanging ear design, say goodbye to the swelling caused by earplugs. Non-in-ear design, earphones that fit the contours of your ears, so that you won’t feel pain after wearing them for a long time. Bone conduction design to make the sound more clear. 🎧【Upgrade Bluetooth 5.0】- Say goodbye to the Bluetooth 4.2 version, bluetooth 5.0 transmission of our bluetooth earbuds is more stable, lower latency, and the maximum distance can reach 15 meters(49 feet). Compatible with Android/IOS iPhone. Suitable for Music/workout/sports occasions 🎧【Great practicality, Value and accessibility】- This bluetooth headsets is built-in 140 mAh battery, 200 hours of standby time when fully charged, 10 hours of continuous playback, charging time only 1-2 hours. Waterproof and sweatproof really stand the \"baptism\" of sweat. Reduce signal interference, enhance call effect, audiophile music sound quality, to meet all your needs. And the price is very beautiful compared to airpods. Are you still not in your heart? 🎧【How to use/connect】- Press and hold the multi-function button for two seconds to power on and enter pairing, then turn on Bluetooth in the phone and find the Bluetooth device(F88) corresponding to the headset to pair. You don't need to pair again after connecting. 🎧【100% customer satisfaction】- The Customer is God. If you are not satisfied with the bluetooth headset, please contact us. We will solve the problem quickly within 24 business hours. And you can enjoy one month's free refund and replacement. \n",
      "- B0B51PZC3L: VOESUD 2022 Upgrade Wireless Earbuds, Bluetooth 5.3 Headphones with Mic,Wireless Headphones Running with IP7 Waterproof Ear Hooks,Touch Control for Sport/WorkAdvanced Bluetooth 5.3 Technology: Q53 Wireless Earbuds use the advanced Bluetooth 5.3 chipset. Use wireless headphones you will getting 3x faster transmission speed and more stable connectivity without signal loss or music dropouts. Whether you are at home, in the office, or on the road, you don't have to worry about disconnection. Thetruly bluetooth headphones make you jump out of limits rather than pulled back by wires. Immersive Sound with Punchy Bass and Crystal Clear Calls: Q53 bluetooth earbuds adopts unique stereo design and 13.4mm big composite diaphragms to produce powerful sound with 40% more bass, bring more authentic music experience. Bluetooth earphones has powerful built-in CVC 8.0 dual microphones to effectively remove ambient noise and make calls clearer. you can use the noise cancelling headphones together or singly, auto connect to your device to talk any time when you walk, run! Ultra Lightweight Earhook Design and IP-X7 Waterproof: VOESUD running headphones to keep you motivated.Adjustable and secure-fit silicone earhooks and ergonomic design ensure your wireless earphones stay comfortably firm in place when doing sports and outside activity which don't worry about the running earbuds will fall off. The waterproof nano-coating design of the sport headphones can enjoy sports and outdoor activities without worrying about getting wet or sweaty LED Power Display and 120Hrs Playtime: Designed with digital LED power display, the Earbuds wireless earbuds allows you to grasp remaining power of charging case and charging status of earbuds in real-time. The bluetooth earbuds offer 8 hours of playtime on a single charge and up to 120 hours playback with the portable charging case. Only 1.5 hrs of charging time is required for both the in ear headphones to get a full charge. Never worry about battery life even on long trips. Touch Control and One-Step Pairing: Simply take the wireless earbuds out of the charging case and they will automatically connect to your phone in 1 seconds. The headphones wireless come with touch control technology which you can easily access different functions such as media control and calls, switch to next or previous track, play or pause. Earphones wireless bluetooth truly realizes a wireless experience, get rid of the unhappiness caused by physical buttons. \n",
      "- B0BXRMTZCD: ASMRBAND Headband Headphones, Sleep Headphones Adjustable, Sleeping Headphones Comfortable Headband with Thin Speaker Microphone Handsfree Best Gift Ideas For Women Men【New Adjustable Design & HD Hi Fi Stereo Sound】 The new sleep headphones adopt improved adjustable strap design, can be adjusted to fit everyone’s head size. Ultra-thin discs make it ideal for side-sleepers and get rid of falling earplugs but without any compression of stereo sound. Wireless 5.2 version has a wireless range of 45 feet, which guarantees stable wireless connection. The headband headphones compatible with smart phones, computers, laptops, smart TVs and others. 【Headband Headphones with Ultra-Thin Speakers】 Adjustable headband headphones integrate the earpieces into a soft fabric headband for your extra comfort and the speakers are so thin that you can't feel them even if you press your head against the pillow, perfect sleep headphones for side sleepers.Choose sleeping headphones to keep you away from noisy environments and have a sweet dream. 【Built For Your Comfortability】 The Sleep headphones headband imitate human skin texture, ensuring lasting comfort. They are foldable and stretchable, which allows you to find the perfect fit without constraint and excellent durability. Wireless Headphones is the best Choice for Travel, Sport and Every day use by Unisex Kids, Teens and Adults. 【10+ Hours Music For A Full Night's Sleep】 Free of distracting beeps or bright lights.With the advanced Wireless tech and the premium lithium battery, the sleeping headphones can last at least 10 hrs after a 2 hrs full recharge. It's especially helpful for the light sleepers who use a full night's music or white noise to avoid being startled awake. When the battery runs out, the sleeping earbuds will turn off automatically instead of beeping a warning and waking you during the night. 【2 Year Warranty】 USA brand provide headphones for sleep wireless hassle-free service and offer friendly, easy-to-reach support (just contact us if you have any questions).Take sleep headband creates you a private space, not only make your sleep better but also enjoy your music time.If the sleeping headband phones you received happen to be malfunctioning,please let us know then we will provide you a free replacement or a refund. \n",
      "- B0B3J1NNGL: Omidyi True Wireless Sleep Earbuds, Noise Blocking Headphones in Ear for Sleeping, Lightweight and Comfortable, Bluetooth Earbuds Designed to Help You Fall Asleep Better (Black) [2022 Version]DO YOU ALSO HAVE TROUBLE WITH INSOMNIA AND TOSSING AND TURNING? Omidyi Sleep Earbuds are designed ergonomically and fit pretty snug ear, Forms the perfect acoustic seal and blocking effectively the outside noise up to 24dB. Sleep Technology Clinically Proven to Help You Fall Asleep Faster and sleep Better with Relaxing and Soothing. DO YOU ALSO HAVE TROUBLE WITH EARBUDS THAT ARE UNCOMFORTABLE TO WEAR? Omidyi L29 sleep earbuds paired with soft silicone eartips and earbud caps, and the true wireless earbuds design give you a comfortable wearing experience throughout the night. Even if you sleep on your side, you will not feel some pressure applied to the inside of your ear. These also come with 3 different sized silicone covers to help with different sized ears. DO YOU ALSO HAVE THE TROUBLE OF BULKY EARBUDS AND SHORT BATTERY LIFE? These in-ear sleep headphones are super tiny and lightweight, at only 0.095oz (2.7g) per earbud, Small up to 0.197 inch, it’s compact enough for carrying it around in a pocket. And the playtime lasts up to 4.5 hours for a single charged, the pocket-sized charging case provides an additional 27 hours of play, it will be great for travel as well. DO YOU NEED HEADPHONES WITHOUT DOWNLOADING A PROPRIETARY APP? Unlike other sleep earphones, Omidyi L29 sleep earbuds can be used as daily work and life. You can play the local music in all your bluetooth-ready devices, Play your favorite music on the way home from get off work or before bed to relieve the fatigue of the day. ARE YOU STILL WORRIED ABOUT AFTER-SALES SERVICES? Omidyi, industry-leading 1 year worry free warranty, 24 hours email online service, friendly & outstanding lifetime technical support. If you have any questions, please feel free to tell us, we will try our best to solve it for you. \n",
      "- B0C3GP9QFB: 2 Pack Gkv for Airpods 3 Case for Airpod 3 (2021) Cover Unique Funny Fun Kawaii Cute 3D Cartoon Design Air Pods 3rd Generation Silicone Cases for Girls Teen Boys KidsInterestful Novel and Cute Design Style: This AirPods 3 (2021) protective shell is designed to be funny and fashionable, very unique and interesting. Excellent quality, comfortable feel, absolutely attracting everyone's gaze. Comprehensive Protection: This fun silicone shell provides best protection for your AirPods 3 (2021). The high quality silicone material makes it soft and flexible, and the case where the AirPods 3 (2021) accidentally falls can be buffered to reduce harm. And it is not easy to deform and break, and the hard object is prevented from scratching the surface of AirPods 3 (2021). Accurate Hole Position Design: The bottom hole is accurate, and it can be charged for AirPods 3 (2021) without removing the outer casing. Opening and closing is smooth, it is easy to remove the headphones in the AirPods 3 (2021). Best Gift: Cute and interesting fashion unique AirPods 3 (2021) protective shells are very suitable for girls, boys, youth, women, students, daughters, sons, niece, etc., give them in Children's Day, Christmas, Thanksgiving or birthday, will Get a surprise. Attached to The Hill Buckle: Including: 2*Suitable for protector of AirPods 3 (2021); 2*Metal buckle/keychain. Carry AirPods 3 (2021) with you, you can hang your backpack, belt, or key, enjoy music anytime, anywhere. \n",
      "- B0C999S8YM: BOGASING Bluetooth Speakers, M4 Portable Wireless Speaker with 40W Deep Bass and Loud Stereo Sound, IPX7 Waterproof, Bluetooth 5.0, TWS, DSP Technology, Built-in Mic, for Outdoor Home Party (Black)【40W HD SOUND WITH PUNCHY BASS】40W powerful sound is delivered by two 20W full range-drivers and a passive radiator, while real-time intensified bass can be heard with Bass up technology. The exceptional audio components ensure accurate and clear sound reproduction without distortion at any volume. 【IPX7 WATERPROOF】The M4 Bluetooth Speakers offers strong waterproof and dustproof protection. The durable silicone body and port cover will ensure better internal protection. You can take your speakers to the pool, adventure, beach, bathroom and anywhere. Enjoy music without fear. 【THREE SOUND EFFECTS】Three sound effect modes of exclusive custom by BOGASING, which help you feel 3D Stereo, clear and undistorted vocals or enhanced bass to meet your listening preferences. 【EXCELLENT COMPATIBILITY】Advanced Bluetooth 5.0 makes it easy to connect any devices range up to 100 ft, which has fast transmission speed and stable signal without delay. This wireless speaker supports non-Bluetooth devices via TF card slot and the included 3.5mm audio cable, and also support clear hand-free calls with built-in HD microphone. 【DURABLE PORTABLE SPEAKER】 M4 is a powerful outdoor speaker. With the top-of-the-line rechargeable li-ion battery, long enough for any outdoor activities. Play your music anytime with the great sound of BOGASING, in any occasions. Wireless portable bluetooth speakers should be a must have in your life. 【GUARANTEE】Worry-Free 12-month Warranty, we are willing to have the best quality, outstanding service as your first choice. If you have any questions, just EMAIL us and we will try to resolve your issue. \n",
      "- B0B93MRTWF: Tronsmart Bang Mini Portable Bluetooth Speaker with 50W Wireless Stereo Sound, IPX6 Waterproof Loud Speaker for Home/Outdoor/Party, Bluetooth 5.3, Beat-Driven Light Show, Support NFC, Micro SD, AUX【Powerful Bass & Crystal Clear Treble】Besides professional speaker design, Tronsmart Bang Mini features 2 independent speaker cavities, in which the front cavity (2 mid-tweeters and 1 passive radiator) offers crystal clear treble in superior clarity while the rear cavity (2 woofers) presents punchy bass. The 50W high-definition speaker provides higher volume than others, making it suitable for indoor and outdoor gatherings in a variety of scenarios. 【Colorful LED Lights Portable Speaker】2 customizable LED Modes: circling & breathing (The breathing light is only available in standby mode) allow you to tailor your atmosphere and dive into music. Fill your event spaces with party fun such as a house, yard, garden, and swimming pool. 【Large Capacity Battery + Power Bank Function】Built-in 8000mAh (7.4V 4000mAh) large-capacity battery, this portable speaker guarantees 15 hours of playtime on a single charge. It could be juiced up within 4 hours. Functioning as a power bank, it could give your device a boost. A good partner for hiking and traveling. 【IPX6 Waterproof Portable Bluetooth Speakers】Made of rounded edges, the Tronsmart Bang Mini Bluetooth Portable speaker offers the premium touch between an elegant and modern speaker. Advanced IPX6 waterproof prevents spills, rain & splash. The Bluetooth speaker weighs 2.37kg/5.22 lbs, and it can be better transported with a built-in handle. 【Bluetooth 5.3 & Wide Compatibility】Bluetooth 5.3 technology ensures faster connection with Bluetooth-enabled devices within 49ft. With wider compatibility, you could play from an aux-in cable, TF/Micro SD card, or U disk, as well as NFC, enabling Bang Mini to connect your device besides Bluetooth. \n",
      "- B0BM961XHH: iPhone Charger Block,Cube Apple iPhone Charger[Apple MFi Certified]2Pack Fast Charging Data Sync Lightning Cable Cord USB Wall Charger Travel Adapter for iPhone 14/13/12/11/10/XS/XR/8 Plus/8/7/AirPods【Apple Approved MFi Certified Lightning Cable】The 2 Pack iPhone Chargers are expressly authorized by Apple MFI and UL certificated,and the lightning cable built-in smart identification chip which automatically protect your device from damage.The Official guarantees for durability and reduce the problems of overheating,poor contact when the iPhone/iPad/iPod/Airpods is charging. 【2-Pack iPhone Charger Cable & Cube】This officially certified iPhone lightning cable is made of smart chipset control technology, the cables passed 10000+ bending tests,ensure 100% charging and synchronize Photos, Music, Videos and Files at a data transfer speed of up to 480Mbps(30MB/S).The cubes is equipped with a built-in temperature control system, which ensure your device will not overheat during charging, providing you a comfortable environment for life. 【Smaller Size & Lighter Weight】This iPhone charger is designed for small size.The iPhone charger block is made of light and abrasion resistant PVC shell and the iPhone charger cord is wrapped with flexible and light material which is convenient to take out at anytime, including travel, business trip, shopping, etc. 【Wide Compatibility for Apple devices】This 2 Set iPhone chargers with cables & blocks guaranteed universal compatibility that support Apple devices including iPhone 14/14 Pro/14 Pro Max/14 Plus/13/13 Pro/13 Pro Max/13 Mini/12/12 Pro/12 Pro Max/12 Mini/11/11 Pro/11 Pro Max/SE 2020/XS Max/XS/X/XR/8 Plus/ 8 /7/7 Plus/6s/6s Plus/6/6 Plus/SE/5s/5/5c,iPad,AirPods. 【Efficient After Sales Reply】If you have any question when you receive your package containing 2pack iPhone 3FT USB A to lightning cable and 5W iPhone charger block,please do not hesitate to click the after-sales button.We are very happy to have communication with you and promise to reply to your questions within 24 hours. \n",
      "- B09ZNKRFSC: JBL Flip 6 - Waterproof Portable Bluetooth Speaker, Powerful Sound and deep bass, IPX7 Waterproof, 12 Hours of Playtime with Megen Hardshell CaseWATERPROOF BLUETOOTH SPEAKER: The Flip 6 Bluetooth wireless speaker has an innovative IPX7 waterproof design that allows you to fearlessly emerge the entire speaker into the water a few feet deep. Are you already excited to try it out? 12 Hours of Playtime Don’t sweat the small stuff like charging your battery. JBL Flip 6 gives you up to 12 hours of playtime on a single charge. Hike up the fun with PartyBoost PartyBoost allows you to pair two JBL PartyBoost-compatible speakers together for stereo sound or link multiple JBL PartyBoost-compatible speakers to truly pump up your party To the pool. To the park. JBL Flip 6 is IP67 waterproof and dustproof, so you can bring your speaker anywhere. CARRY THE SPEAKER AROUND WITH EASE: The shockproof carrying case of this JBL portable speaker has a mesh pocket where you can store the USB charging cable. The Megen case allows you to carry the Flip 6 Wireless Bluetooth Portable Speaker in your backpack or luggage with complete safety. Wirelessly connect your favorite devices with Bluetooth 5.1 \n",
      "\n",
      "\n",
      "Question:\n",
      "What kind of earphones can I get?\n",
      "\n"
     ]
    }
   ],
   "source": [
    "print(build_prompt(preprocessed_context, \"What kind of earphones can I get?\"))\n"
   ]
  },
  {
   "cell_type": "markdown",
   "id": "c79f158c",
   "metadata": {},
   "source": [
    "# Generate answer function (from LLM)"
   ]
  },
  {
   "cell_type": "code",
   "execution_count": 28,
   "id": "f185ba94",
   "metadata": {},
   "outputs": [],
   "source": [
    "def generate_answer(prompt):\n",
    "    response = openai.chat.completions.create(\n",
    "        model=\"gpt-4.1-mini\",\n",
    "        messages=[{\"role\": \"system\", \"content\": prompt}],\n",
    "        temperature=0.5,\n",
    "\n",
    "    )\n",
    "    return response.choices[0].message.content"
   ]
  },
  {
   "cell_type": "code",
   "execution_count": 30,
   "id": "4d65d45d",
   "metadata": {},
   "outputs": [
    {
     "name": "stdout",
     "output_type": "stream",
     "text": [
      "You can choose from several types of earphones available:\n",
      "\n",
      "1. Wireless Earbuds with Noise Cancelling and Deep Bass:\n",
      "   - Bluetooth 5.1 technology, IP7 waterproof, 30 hours playtime.\n",
      "   - Features CVC 8.0 noise reduction, Hi-Fi stereo sound, touch controls.\n",
      "   - Suitable for workout, home, office.\n",
      "   - Example: Wireless Earbud B0C52WNWY6.\n",
      "\n",
      "2. Bone Conduction Ear Hook Headphones:\n",
      "   - Non in-ear plug design, lightweight and painless to wear.\n",
      "   - Bluetooth 5.0, waterproof, 10 hours continuous playback.\n",
      "   - Great for sports and workouts.\n",
      "   - Example: XpacEbank Wireless Bluetooth Headphone B09Y57K53R.\n",
      "\n",
      "3. Wireless Earbuds with Ear Hooks and Advanced Bluetooth 5.3:\n",
      "   - IPX7 waterproof, ergonomic earhook design for secure fit.\n",
      "   - 120 hours total playtime with charging case, touch control.\n",
      "   - Powerful bass and clear calls with noise cancellation.\n",
      "   - Example: VOESUD 2022 Upgrade Wireless Earbuds B0B51PZC3L.\n",
      "\n",
      "4. Sleep Headband Headphones:\n",
      "   - Adjustable headband with ultra-thin speakers.\n",
      "   - Comfortable for side sleepers, wireless Bluetooth 5.2.\n",
      "   - 10+ hours music for a full night's sleep.\n",
      "   - Example: ASMRBAND Headband Headphones B0BXRMTZCD.\n",
      "\n",
      "5. True Wireless Sleep Earbuds:\n",
      "   - Ergonomic, lightweight, noise blocking up to 24dB.\n",
      "   - Up to 4.5 hours playtime per charge, additional 27 hours with case.\n",
      "   - Suitable for comfortable sleep and daily use.\n",
      "   - Example: Omidyi True Wireless Sleep Earbuds B0B3J1NNGL.\n",
      "\n",
      "These options cover a range of uses including sports, sleep, noise cancellation, and comfortable long wear.\n"
     ]
    }
   ],
   "source": [
    "print(generate_answer(prompt))\n"
   ]
  },
  {
   "cell_type": "markdown",
   "id": "55b5c555",
   "metadata": {},
   "source": [
    "# Combined RAG Pipeline"
   ]
  },
  {
   "cell_type": "code",
   "execution_count": 32,
   "id": "f49776b6",
   "metadata": {},
   "outputs": [],
   "source": [
    "def rag_pipeline(question, top_k=5):\n",
    "    \"\"\"\n",
    "    Complete RAG (Retrieval-Augmented Generation) pipeline for answering questions about products.\n",
    "    \n",
    "    This function implements a full RAG pipeline that:\n",
    "    1. Retrieves relevant product information from a Qdrant vector database\n",
    "    2. Processes the retrieved context into a formatted string\n",
    "    3. Builds a prompt with the context and question\n",
    "    4. Generates an answer using OpenAI's GPT model\n",
    "    \n",
    "    Args:\n",
    "        question (str): The user's question about products\n",
    "        top_k (int, optional): Number of most similar products to retrieve. Defaults to 5.\n",
    "    \n",
    "    Returns:\n",
    "        str: Generated answer based on retrieved product information\n",
    "        \n",
    "    Example:\n",
    "        >>> answer = rag_pipeline(\"What kind of earphones can I get?\", top_k=10)\n",
    "        >>> print(answer)\n",
    "    \"\"\"\n",
    "    qdrant_client = QdrantClient(url=\"http://localhost:6333\")\n",
    "    retrieved_context = retrieve_data(question, qdrant_client, top_k)\n",
    "    processed_context = process_context(retrieved_context)\n",
    "    prompt = build_prompt(processed_context, question)\n",
    "    answer = generate_answer(prompt)\n",
    "    \n",
    "    return answer \n",
    "\n"
   ]
  },
  {
   "cell_type": "code",
   "execution_count": 33,
   "id": "233150c1",
   "metadata": {},
   "outputs": [
    {
     "name": "stdout",
     "output_type": "stream",
     "text": [
      "Yes, you can get a tablet. There are two tablets available:\n",
      "\n",
      "1. DUODUOGO 2 in 1 Tablet 10 Inch with Keyboard Mouse Stylus, 128GB Expand 64GB ROM 4GB RAM Android 10.0 Quad-Core HD IPS Screen, 8MP Dual Camera, GPS, FM, OTG, Bluetooth, 4G Dual SIM & WiFi (Model: DGO-P610).\n",
      "\n",
      "2. DOOGEE T10 Android Tablet 2023, 10.1\" FHD+ Android 12 Tablet with 15GB RAM, 128GB storage, Octa-Core processor, 8300mAh Battery, 2.4G/5G WiFi, Bluetooth, GPS, Split Screen, and TÜV Low Blue Light certification.\n",
      "\n",
      "You can choose either based on your preferences for features and specifications.\n"
     ]
    }
   ],
   "source": [
    "print(rag_pipeline(\"Can I get a tablet\"))"
   ]
  },
  {
   "cell_type": "code",
   "execution_count": null,
   "id": "288a4edc",
   "metadata": {},
   "outputs": [],
   "source": []
  }
 ],
 "metadata": {
  "kernelspec": {
   "display_name": ".venv",
   "language": "python",
   "name": "python3"
  },
  "language_info": {
   "codemirror_mode": {
    "name": "ipython",
    "version": 3
   },
   "file_extension": ".py",
   "mimetype": "text/x-python",
   "name": "python",
   "nbconvert_exporter": "python",
   "pygments_lexer": "ipython3",
   "version": "3.12.11"
  }
 },
 "nbformat": 4,
 "nbformat_minor": 5
}
