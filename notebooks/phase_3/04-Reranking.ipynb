{
 "cells": [
  {
   "cell_type": "markdown",
   "id": "946e1227",
   "metadata": {},
   "source": [
    "#### Import Dependencies"
   ]
  },
  {
   "cell_type": "code",
   "execution_count": null,
   "id": "71b2427f",
   "metadata": {},
   "outputs": [],
   "source": [
    "from qdrant_client import QdrantClient\n",
    "from qdrant_client.models import VectorParams, Distance, PayloadSchemaType, PointStruct, SparseVectorParams, Document, Prefetch, FusionQuery\n",
    "from qdrant_client import models\n",
    "\n",
    "import pandas as pd\n",
    "import openai\n",
    "import cohere"
   ]
  },
  {
   "cell_type": "markdown",
   "id": "6ddefb9f",
   "metadata": {},
   "source": [
    "#### Retrieval"
   ]
  },
  {
   "cell_type": "code",
   "execution_count": null,
   "id": "638865c6",
   "metadata": {},
   "outputs": [],
   "source": [
    "qdrant_client = QdrantClient(url=\"http://localhost:6333\")"
   ]
  },
  {
   "cell_type": "code",
   "execution_count": null,
   "id": "c63ef902",
   "metadata": {},
   "outputs": [],
   "source": [
    "def get_embedding(text, model=\"text-embedding-3-small\"):\n",
    "    response = openai.embeddings.create(\n",
    "        input=[text],\n",
    "        model=model,\n",
    "    )\n",
    "    return response.data[0].embedding"
   ]
  },
  {
   "cell_type": "code",
   "execution_count": null,
   "id": "31372c77",
   "metadata": {},
   "outputs": [],
   "source": [
    "def retrieve_data(query, qdrant_client, k=5):\n",
    "\n",
    "    query_embedding = get_embedding(query)\n",
    "\n",
    "    results = qdrant_client.query_points(\n",
    "        collection_name=\"Amazon-items-collection-01-hybrid-search\",\n",
    "        prefetch=[\n",
    "            Prefetch(\n",
    "                query=query_embedding,\n",
    "                using=\"text-embedding-3-small\",\n",
    "                limit=20\n",
    "            ),\n",
    "            Prefetch(\n",
    "                query=Document(\n",
    "                    text=query,\n",
    "                    model=\"qdrant/bm25\"\n",
    "                ),\n",
    "                using=\"bm25\",\n",
    "                limit=20\n",
    "            )\n",
    "        ],\n",
    "        query=FusionQuery(fusion=\"rrf\"),\n",
    "        limit=k,\n",
    "    )\n",
    "\n",
    "    retrieved_context_ids = []\n",
    "    retrieved_context = []\n",
    "    retrieved_context_ratings = []\n",
    "    similarity_scores = []\n",
    "\n",
    "    for result in results.points:\n",
    "        retrieved_context_ids.append(result.payload[\"parent_asin\"])\n",
    "        retrieved_context.append(result.payload[\"description\"])\n",
    "        retrieved_context_ratings.append(result.payload[\"average_rating\"])\n",
    "        similarity_scores.append(result.score)\n",
    "\n",
    "    return {\n",
    "        \"retrieved_context_ids\": retrieved_context_ids,\n",
    "        \"retrieved_context\": retrieved_context,\n",
    "        \"retrieved_context_ratings\": retrieved_context_ratings,\n",
    "        \"similarity_scores\": similarity_scores,\n",
    "    }"
   ]
  },
  {
   "cell_type": "code",
   "execution_count": null,
   "id": "675282fd",
   "metadata": {},
   "outputs": [],
   "source": [
    "query = \"Can I get some tablet?\""
   ]
  },
  {
   "cell_type": "code",
   "execution_count": null,
   "id": "02b4e143",
   "metadata": {},
   "outputs": [],
   "source": [
    "results = retrieve_data(query, qdrant_client, k=20)"
   ]
  },
  {
   "cell_type": "code",
   "execution_count": null,
   "id": "92e4e235",
   "metadata": {},
   "outputs": [],
   "source": [
    "results"
   ]
  },
  {
   "cell_type": "markdown",
   "id": "16e57358",
   "metadata": {},
   "source": [
    "#### Reranking"
   ]
  },
  {
   "cell_type": "code",
   "execution_count": null,
   "id": "5815584b",
   "metadata": {},
   "outputs": [],
   "source": [
    "cohere_client = cohere.ClientV2()"
   ]
  },
  {
   "cell_type": "code",
   "execution_count": null,
   "id": "e948ebf9",
   "metadata": {},
   "outputs": [],
   "source": [
    "to_rerank = results[\"retrieved_context\"]"
   ]
  },
  {
   "cell_type": "code",
   "execution_count": null,
   "id": "e35bb786",
   "metadata": {},
   "outputs": [],
   "source": [
    "response = cohere_client.rerank(\n",
    "    model=\"rerank-v3.5\",\n",
    "    query=query,\n",
    "    documents=to_rerank,\n",
    "    top_n=20\n",
    ")"
   ]
  },
  {
   "cell_type": "code",
   "execution_count": null,
   "id": "17cd498d",
   "metadata": {},
   "outputs": [],
   "source": [
    "response"
   ]
  },
  {
   "cell_type": "code",
   "execution_count": null,
   "id": "1badb45b",
   "metadata": {},
   "outputs": [],
   "source": [
    "reranked_results = [to_rerank[results.index] for results in response.results]"
   ]
  },
  {
   "cell_type": "code",
   "execution_count": null,
   "id": "85bda619",
   "metadata": {},
   "outputs": [],
   "source": [
    "results[\"retrieved_context\"]"
   ]
  },
  {
   "cell_type": "code",
   "execution_count": null,
   "id": "47503efe",
   "metadata": {},
   "outputs": [],
   "source": [
    "reranked_results"
   ]
  },
  {
   "cell_type": "code",
   "execution_count": null,
   "id": "742572de",
   "metadata": {},
   "outputs": [],
   "source": []
  }
 ],
 "metadata": {
  "kernelspec": {
   "display_name": ".venv",
   "language": "python",
   "name": "python3"
  },
  "language_info": {
   "codemirror_mode": {
    "name": "ipython",
    "version": 3
   },
   "file_extension": ".py",
   "mimetype": "text/x-python",
   "name": "python",
   "nbconvert_exporter": "python",
   "pygments_lexer": "ipython3",
   "version": "3.12.8"
  }
 },
 "nbformat": 4,
 "nbformat_minor": 5
}
