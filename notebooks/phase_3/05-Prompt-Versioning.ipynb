{
 "cells": [
  {
   "cell_type": "markdown",
   "id": "41e86266",
   "metadata": {},
   "source": [
    "#### Import Dependencies"
   ]
  },
  {
   "cell_type": "code",
   "execution_count": null,
   "id": "3b963274",
   "metadata": {},
   "outputs": [],
   "source": [
    "import yaml\n",
    "from jinja2 import Template\n",
    "from langsmith import Client"
   ]
  },
  {
   "cell_type": "markdown",
   "id": "e6669ed8",
   "metadata": {},
   "source": [
    "#### RAG Pipeline"
   ]
  },
  {
   "cell_type": "code",
   "execution_count": null,
   "id": "6a88f2e5",
   "metadata": {},
   "outputs": [],
   "source": [
    "def build_prompt(preprocessed_context, question):\n",
    "\n",
    "    prompt = f\"\"\"\n",
    "You are a shopping assistant that can answer questions about the products in stock.\n",
    "\n",
    "You will be given a question and a list of context.\n",
    "\n",
    "Instructtions:\n",
    "- You need to answer the question based on the provided context only.\n",
    "- Never use word context and refer to it as the available products.\n",
    "- As an output you need to provide:\n",
    "\n",
    "* The answer to the question based on the provided context.\n",
    "* The list of the IDs of the chunks that were used to answer the question. Only return the ones that are used in the answer.\n",
    "* Short description (1-2 sentences) of the item based on the description provided in the context.\n",
    "\n",
    "- The short description should have the name of the item.\n",
    "- The answer to the question should contain detailed information about the product and returned with detailed specification in bullet points.\n",
    "\n",
    "Context:\n",
    "{preprocessed_context}\n",
    "\n",
    "Question:\n",
    "{question}\n",
    "\"\"\"\n",
    "\n",
    "    return prompt"
   ]
  },
  {
   "cell_type": "code",
   "execution_count": null,
   "id": "19549a33",
   "metadata": {},
   "outputs": [],
   "source": [
    "preprocessed_context = \"- a \\n- b\"\n",
    "question = \"What is a?\""
   ]
  },
  {
   "cell_type": "code",
   "execution_count": null,
   "id": "10e4c836",
   "metadata": {},
   "outputs": [],
   "source": [
    "prompt = f\"\"\"\n",
    "You are a shopping assistant that can answer questions about the products in stock.\n",
    "\n",
    "You will be given a question and a list of context.\n",
    "\n",
    "Instructtions:\n",
    "- You need to answer the question based on the provided context only.\n",
    "- Never use word context and refer to it as the available products.\n",
    "- As an output you need to provide:\n",
    "\n",
    "* The answer to the question based on the provided context.\n",
    "* The list of the IDs of the chunks that were used to answer the question. Only return the ones that are used in the answer.\n",
    "* Short description (1-2 sentences) of the item based on the description provided in the context.\n",
    "\n",
    "- The short description should have the name of the item.\n",
    "- The answer to the question should contain detailed information about the product and returned with detailed specification in bullet points.\n",
    "\n",
    "Context:\n",
    "{preprocessed_context}\n",
    "\n",
    "Question:\n",
    "{question}\n",
    "\"\"\""
   ]
  },
  {
   "cell_type": "code",
   "execution_count": null,
   "id": "f64524e9",
   "metadata": {},
   "outputs": [],
   "source": [
    "print(prompt)"
   ]
  },
  {
   "cell_type": "markdown",
   "id": "4a282f38",
   "metadata": {},
   "source": [
    "#### Jinja Templates"
   ]
  },
  {
   "cell_type": "code",
   "execution_count": null,
   "id": "629a9c82",
   "metadata": {},
   "outputs": [],
   "source": [
    "jinja_template = \"\"\"\n",
    "You are a shopping assistant that can answer questions about the products in stock.\n",
    "\n",
    "You will be given a question and a list of context.\n",
    "\n",
    "Instructtions:\n",
    "- You need to answer the question based on the provided context only.\n",
    "- Never use word context and refer to it as the available products.\n",
    "- As an output you need to provide:\n",
    "\n",
    "* The answer to the question based on the provided context.\n",
    "* The list of the IDs of the chunks that were used to answer the question. Only return the ones that are used in the answer.\n",
    "* Short description (1-2 sentences) of the item based on the description provided in the context.\n",
    "\n",
    "- The short description should have the name of the item.\n",
    "- The answer to the question should contain detailed information about the product and returned with detailed specification in bullet points.\n",
    "\n",
    "Context:\n",
    "{{ preprocessed_context }}\n",
    "\n",
    "Question:\n",
    "{{ question }}\n",
    "\"\"\""
   ]
  },
  {
   "cell_type": "code",
   "execution_count": null,
   "id": "a8637814",
   "metadata": {},
   "outputs": [],
   "source": [
    "template = Template(jinja_template)"
   ]
  },
  {
   "cell_type": "code",
   "execution_count": null,
   "id": "2bf23a73",
   "metadata": {},
   "outputs": [],
   "source": [
    "rendered_prompt = template.render(preprocessed_context=preprocessed_context, question=question)"
   ]
  },
  {
   "cell_type": "code",
   "execution_count": null,
   "id": "ce9d4596",
   "metadata": {},
   "outputs": [],
   "source": [
    "print(rendered_prompt)"
   ]
  },
  {
   "cell_type": "code",
   "execution_count": null,
   "id": "150ad009",
   "metadata": {},
   "outputs": [],
   "source": [
    "def build_prompt_jinja(preprocessed_context, question):\n",
    "\n",
    "    prompt = \"\"\"\n",
    "You are a shopping assistant that can answer questions about the products in stock.\n",
    "\n",
    "You will be given a question and a list of context.\n",
    "\n",
    "Instructtions:\n",
    "- You need to answer the question based on the provided context only.\n",
    "- Never use word context and refer to it as the available products.\n",
    "- As an output you need to provide:\n",
    "\n",
    "* The answer to the question based on the provided context.\n",
    "* The list of the IDs of the chunks that were used to answer the question. Only return the ones that are used in the answer.\n",
    "* Short description (1-2 sentences) of the item based on the description provided in the context.\n",
    "\n",
    "- The short description should have the name of the item.\n",
    "- The answer to the question should contain detailed information about the product and returned with detailed specification in bullet points.\n",
    "\n",
    "Context:\n",
    "{{ preprocessed_context }}\n",
    "\n",
    "Question:\n",
    "{{ question }}\n",
    "\"\"\"\n",
    "\n",
    "    template = Template(prompt)\n",
    "    rendered_prompt = template.render(\n",
    "        preprocessed_context=preprocessed_context, \n",
    "        question=question\n",
    "    )\n",
    "\n",
    "    return rendered_prompt"
   ]
  },
  {
   "cell_type": "code",
   "execution_count": null,
   "id": "daef0c2d",
   "metadata": {},
   "outputs": [],
   "source": [
    "print(build_prompt_jinja(preprocessed_context, question))"
   ]
  },
  {
   "cell_type": "code",
   "execution_count": null,
   "id": "b630b342",
   "metadata": {},
   "outputs": [],
   "source": [
    "def prompt_template_config(yaml_file, prompt_key):\n",
    "\n",
    "    with open(yaml_file, 'r') as file:\n",
    "        config = yaml.safe_load(file)\n",
    "\n",
    "    template_content = config['prompts'][prompt_key]\n",
    "\n",
    "    template = Template(template_content)\n",
    "\n",
    "    return template\n"
   ]
  },
  {
   "cell_type": "code",
   "execution_count": null,
   "id": "38907dd9",
   "metadata": {},
   "outputs": [],
   "source": [
    "def build_prompt_jinja(preprocessed_context, question):\n",
    "\n",
    "    template = prompt_template_config(\"prompts/retrieval_generation.yaml\", \"retrieval_generation\")\n",
    "    \n",
    "    rendered_prompt = template.render(\n",
    "        preprocessed_context=preprocessed_context, \n",
    "        question=question\n",
    "    )\n",
    "\n",
    "    return rendered_prompt"
   ]
  },
  {
   "cell_type": "code",
   "execution_count": null,
   "id": "90059ae7",
   "metadata": {},
   "outputs": [],
   "source": [
    "print(build_prompt_jinja(preprocessed_context, question))"
   ]
  },
  {
   "cell_type": "markdown",
   "id": "152fdf76",
   "metadata": {},
   "source": [
    "#### Prompt Registries"
   ]
  },
  {
   "cell_type": "code",
   "execution_count": null,
   "id": "7df86338",
   "metadata": {},
   "outputs": [],
   "source": [
    "ls_client = Client()"
   ]
  },
  {
   "cell_type": "code",
   "execution_count": null,
   "id": "744f75a4",
   "metadata": {},
   "outputs": [],
   "source": [
    "ls_template = ls_client.pull_prompt(\"retrieval-generation\")"
   ]
  },
  {
   "cell_type": "code",
   "execution_count": null,
   "id": "7c6668a2",
   "metadata": {},
   "outputs": [],
   "source": [
    "ls_template"
   ]
  },
  {
   "cell_type": "code",
   "execution_count": null,
   "id": "d23f9755",
   "metadata": {},
   "outputs": [],
   "source": [
    "print(ls_template.messages[0].prompt.template)"
   ]
  },
  {
   "cell_type": "code",
   "execution_count": null,
   "id": "3016234d",
   "metadata": {},
   "outputs": [],
   "source": [
    "def prompt_template_registry(prompt_name):\n",
    "\n",
    "    template_content = ls_client.pull_prompt(prompt_name).messages[0].prompt.template\n",
    "\n",
    "    template = Template(template_content)\n",
    "\n",
    "    return template\n"
   ]
  },
  {
   "cell_type": "code",
   "execution_count": null,
   "id": "56e7c96e",
   "metadata": {},
   "outputs": [],
   "source": [
    "print(prompt_template_registry(\"retrieval-generation\").render(preprocessed_context=preprocessed_context, question=question))"
   ]
  },
  {
   "cell_type": "code",
   "execution_count": null,
   "id": "8f7292fa",
   "metadata": {},
   "outputs": [],
   "source": []
  }
 ],
 "metadata": {
  "kernelspec": {
   "display_name": ".venv",
   "language": "python",
   "name": "python3"
  },
  "language_info": {
   "codemirror_mode": {
    "name": "ipython",
    "version": 3
   },
   "file_extension": ".py",
   "mimetype": "text/x-python",
   "name": "python",
   "nbconvert_exporter": "python",
   "pygments_lexer": "ipython3",
   "version": "3.12.8"
  }
 },
 "nbformat": 4,
 "nbformat_minor": 5
}
